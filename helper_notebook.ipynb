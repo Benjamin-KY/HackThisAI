{
 "cells": [
  {
   "cell_type": "code",
   "execution_count": 1,
   "metadata": {},
   "outputs": [],
   "source": [
    "import os\n",
    "import subprocess\n",
    "import time\n",
    "import requests"
   ]
  },
  {
   "cell_type": "code",
   "execution_count": 2,
   "metadata": {},
   "outputs": [],
   "source": [
    "%%capture\n",
    "if os.getcwd().split(\"/\")[-1] != \"HackThisAI\":\n",
    "    !git clone https://github.com/JosephTLucas/HackThisAI"
   ]
  },
  {
   "cell_type": "code",
   "execution_count": 3,
   "metadata": {},
   "outputs": [],
   "source": [
    "%%capture\n",
    "!docker build --tag credit_check challenge/easy_credit_check/"
   ]
  },
  {
   "cell_type": "code",
   "execution_count": 4,
   "metadata": {},
   "outputs": [],
   "source": [
    "%%capture\n",
    "subprocess.call(\"docker run -p 5000:5000 credit_check:latest &\", shell=True)"
   ]
  },
  {
   "cell_type": "markdown",
   "metadata": {},
   "source": [
    "WARNING: If you keep running this command, you'll keep creating new containers. It's up to you to kill these in your docker dashboard."
   ]
  },
  {
   "cell_type": "code",
   "execution_count": 5,
   "metadata": {},
   "outputs": [
    {
     "name": "stdout",
     "output_type": "stream",
     "text": [
      "Waiting to make sure container starts.\n"
     ]
    }
   ],
   "source": [
    "print(\"Waiting to make sure container starts.\")\n",
    "time.sleep(10)"
   ]
  },
  {
   "cell_type": "markdown",
   "metadata": {},
   "source": [
    "Let's see what we get if we submit the expected training data."
   ]
  },
  {
   "cell_type": "code",
   "execution_count": 6,
   "metadata": {},
   "outputs": [
    {
     "name": "stdout",
     "output_type": "stream",
     "text": [
      "You don't qualify. Try again.\n"
     ]
    }
   ],
   "source": [
    "with open('challenge/easy_credit_check/Mall_Customers.csv', 'rb') as f:\n",
    "    r = requests.post('http://localhost:5000/check', files={'data_file': f})\n",
    "    print(r.text)"
   ]
  },
  {
   "cell_type": "markdown",
   "metadata": {},
   "source": [
    "Well, since that didn't work, let's make a change to the file."
   ]
  },
  {
   "cell_type": "code",
   "execution_count": 7,
   "metadata": {},
   "outputs": [],
   "source": [
    "with open('challenge/easy_credit_check/Mall_Customers.csv', 'a+') as f:\n",
    "    f.write(\"0201,Female,19,15,10000\\n\")"
   ]
  },
  {
   "cell_type": "code",
   "execution_count": 8,
   "metadata": {},
   "outputs": [
    {
     "name": "stdout",
     "output_type": "stream",
     "text": [
      "Enjoy your Platinum Mall Card: FLAG{HIGHROLLER}\n"
     ]
    }
   ],
   "source": [
    "with open('challenge/easy_credit_check/Mall_Customers.csv', 'rb') as f:\n",
    "    r = requests.post('http://localhost:5000/check', files={'data_file': f})\n",
    "    print(r.text)"
   ]
  },
  {
   "cell_type": "markdown",
   "metadata": {},
   "source": [
    "Looks like we win! They didn't sanitize or bound their target variable. Even though `score` should be bounded on [0,100], they didn't implement any checks on that before training. We were able to introduce something ridiculous and significantly influence their model with one additional datapoint."
   ]
  }
 ],
 "metadata": {
  "kernelspec": {
   "display_name": "Python 3",
   "language": "python",
   "name": "python3"
  },
  "language_info": {
   "codemirror_mode": {
    "name": "ipython",
    "version": 3
   },
   "file_extension": ".py",
   "mimetype": "text/x-python",
   "name": "python",
   "nbconvert_exporter": "python",
   "pygments_lexer": "ipython3",
   "version": "3.8.3"
  }
 },
 "nbformat": 4,
 "nbformat_minor": 4
}
